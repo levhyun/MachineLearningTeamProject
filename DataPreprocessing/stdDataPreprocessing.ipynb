{
 "cells": [
  {
   "attachments": {},
   "cell_type": "markdown",
   "metadata": {},
   "source": [
    "### 데이터 전처리 및 가공"
   ]
  },
  {
   "attachments": {},
   "cell_type": "markdown",
   "metadata": {},
   "source": [
    "##### csv 파일 읽기"
   ]
  },
  {
   "cell_type": "code",
   "execution_count": 2,
   "metadata": {},
   "outputs": [],
   "source": [
    "import pandas as pd\n",
    "\n",
    "criminalTimeAndDay = pd.read_csv('./originalData/01_경찰청_범죄 발생 시간대 및 요일_20191231.csv', encoding='cp949')\n",
    "criminalPlace = pd.read_csv('./originalData/02_경찰청_범죄 발생 장소별 통계_20211231.csv', encoding='cp949')\n",
    "criminalArea = pd.read_csv('./originalData/03_경찰청_범죄 발생 지역별 통계_20151231.csv', encoding='cp949')"
   ]
  },
  {
   "attachments": {},
   "cell_type": "markdown",
   "metadata": {},
   "source": [
    "##### 범죄대분류 칼럼 삭제하기"
   ]
  },
  {
   "cell_type": "code",
   "execution_count": 3,
   "metadata": {},
   "outputs": [],
   "source": [
    "criminalTimeAndDay2 = criminalTimeAndDay.drop('범죄대분류', axis='columns')\n",
    "criminalPlace2 = criminalPlace.drop('범죄대분류', axis='columns')\n",
    "criminalArea2 = criminalArea.drop('범죄대분류', axis='columns')"
   ]
  },
  {
   "attachments": {},
   "cell_type": "markdown",
   "metadata": {},
   "source": [
    "##### 이상한 데이터 변경하기"
   ]
  },
  {
   "cell_type": "code",
   "execution_count": 4,
   "metadata": {},
   "outputs": [],
   "source": [
    "criminalPlace2.loc[criminalPlace2['범죄중분류'] == '절도범죄', ['범죄중분류']] = '절도'\n",
    "criminalTimeAndDay2.loc[criminalTimeAndDay2['범죄중분류'] == '체포 감금', ['범죄중분류']] = '체포감금'\n",
    "criminalPlace2.loc[criminalPlace2['범죄중분류'] == '체포_감금', ['범죄중분류']] = '체포감금'\n",
    "criminalTimeAndDay2.loc[criminalTimeAndDay2['범죄중분류'] == '문서 인장', ['범죄중분류']] = '문서인장'\n",
    "criminalPlace2.loc[criminalPlace2['범죄중분류'] == '문서_인장', ['범죄중분류']] = '문서인장'"
   ]
  },
  {
   "attachments": {},
   "cell_type": "markdown",
   "metadata": {},
   "source": [
    "##### 범죄중분류 칼럼의 데이터 추출 및 리스트화하기"
   ]
  },
  {
   "cell_type": "code",
   "execution_count": 5,
   "metadata": {},
   "outputs": [
    {
     "name": "stdout",
     "output_type": "stream",
     "text": [
      "timeAndDayCriminalList : ['살인기수', '살인미수등', '강도', '강간', '유사강간', '강제추행', '기타 강간 강제추행등', '방화', '절도', '상해', '폭행', '체포감금', '협박', '약취 유인', '폭력행위등', '공갈', '손괴', '직무유기', '직권남용', '증수뢰', '통화', '문서인장', '유가증권인지', '사기', '횡령', '배임', '성풍속범죄', '도박범죄', '특별경제범죄', '마약범죄', '보건범죄', '환경범죄', '교통범죄', '노동범죄', '안보범죄', '선거범죄', '병역범죄', '기타범죄']\n",
      "placeCriminalList : ['살인기수', '살인미수등', '강도', '강간', '유사강간', '강제추행', '기타 강간_강제추행등', '방화', '절도', '상해', '폭행', '체포감금', '협박', '약취_유인', '폭력행위등', '공갈', '손괴', '직무유기', '직권남용', '증수뢰', '통화', '문서인장', '유가증권인지', '사기', '횡령', '배임', '성풍속범죄', '도박범죄', '특별경제범죄', '마약범죄', '보건범죄', '환경범죄', '교통범죄', '노동범죄', '안보범죄', '선거범죄', '병역범죄', '기타범죄']\n",
      "areaCriminalList : ['살인기수', '살인미수등', '강도', '강간', '유사강간', '강제추행', '기타강간강제추행등', '방화', '절도', '상해', '폭행', '체포감금', '협박', '약취유인', '폭력행위등', '공갈', '손괴', '직무유기', '직권남용', '증수뢰', '통화', '문서인장', '유가증권인지', '사기', '횡령', '배임', '성풍속범죄', '도박범죄', '특별경제범죄', '마약범죄', '보건범죄', '환경범죄', '교통범죄', '노동범죄', '안보범죄', '선거범죄', '병역범죄', '기타범죄']\n"
     ]
    }
   ],
   "source": [
    "timeAndDayCriminalList = list(criminalTimeAndDay2['범죄중분류'])\n",
    "placeCriminalList = list(criminalPlace2['범죄중분류'])\n",
    "areaCriminalList = list(criminalArea2['범죄중분류'])\n",
    "print(f'timeAndDayCriminalList : {timeAndDayCriminalList}\\nplaceCriminalList : {placeCriminalList}\\nareaCriminalList : {areaCriminalList}')"
   ]
  },
  {
   "attachments": {},
   "cell_type": "markdown",
   "metadata": {},
   "source": [
    "##### 3개의 범죄중분류 칼럼의 데이터 리스트 합쳐서 중복 제거하기"
   ]
  },
  {
   "cell_type": "code",
   "execution_count": 6,
   "metadata": {},
   "outputs": [
    {
     "name": "stdout",
     "output_type": "stream",
     "text": [
      "['기타 강간 강제추행등', '상해', '강도', '약취 유인', '증수뢰', '배임', '절도', '보건범죄', '특별경제범죄', '체포감금', '기타강간강제추행등', '성풍속범죄', '문서인장', '살인미수등', '노동범죄', '강간', '환경범죄', '사기', '강제추행', '약취유인', '횡령', '공갈', '유가증권인지', '협박', '폭행', '살인기수', '기타 강간_강제추행등', '직무유기', '유사강간', '손괴', '병역범죄', '통화', '방화', '안보범죄', '도박범죄', '기타범죄', '선거범죄', '폭력행위등', '약취_유인', '교통범죄', '마약범죄', '직권남용']\n"
     ]
    }
   ],
   "source": [
    "CriminalList = []\n",
    "CriminalList.extend(timeAndDayCriminalList)\n",
    "CriminalList.extend(placeCriminalList)\n",
    "CriminalList.extend(areaCriminalList)\n",
    "CriminalList = list(set(CriminalList))\n",
    "print(CriminalList)"
   ]
  },
  {
   "attachments": {},
   "cell_type": "markdown",
   "metadata": {},
   "source": [
    "##### 최종 범죄중분류 필터링 리스트 만들기"
   ]
  },
  {
   "cell_type": "code",
   "execution_count": 7,
   "metadata": {},
   "outputs": [
    {
     "name": "stdout",
     "output_type": "stream",
     "text": [
      "['상해', '강도', '증수뢰', '배임', '절도', '보건범죄', '특별경제범죄', '체포감금', '성풍속범죄', '문서인장', '살인미수등', '노동범죄', '강간', '환경범죄', '사기', '강제추행', '횡령', '공갈', '유가증권인지', '협박', '폭행', '살인기수', '직무유기', '유사강간', '손괴', '병역범죄', '통화', '방화', '안보범죄', '도박범죄', '선거범죄', '폭력행위등', '교통범죄', '마약범죄', '직권남용']\n"
     ]
    }
   ],
   "source": [
    "criminalFilter = []\n",
    "for criminalName in CriminalList:\n",
    "    if criminalName in timeAndDayCriminalList and criminalName in placeCriminalList and criminalName in areaCriminalList and criminalName != '기타범죄':\n",
    "        criminalFilter.append(criminalName)\n",
    "print(criminalFilter)"
   ]
  },
  {
   "attachments": {},
   "cell_type": "markdown",
   "metadata": {},
   "source": [
    "##### 범죄중분류를 기준으로 필터링하기"
   ]
  },
  {
   "cell_type": "code",
   "execution_count": 8,
   "metadata": {},
   "outputs": [],
   "source": [
    "criminalTimeAndDay3 = criminalTimeAndDay2.loc[criminalTimeAndDay2['범죄중분류'].isin(criminalFilter)]\n",
    "criminalPlace3 = criminalPlace2.loc[criminalPlace2['범죄중분류'].isin(criminalFilter)]\n",
    "criminalArea3 = criminalArea2.loc[criminalArea2['범죄중분류'].isin(criminalFilter)]"
   ]
  },
  {
   "attachments": {},
   "cell_type": "markdown",
   "metadata": {},
   "source": [
    "##### 인텓스 초기화하기"
   ]
  },
  {
   "cell_type": "code",
   "execution_count": 9,
   "metadata": {},
   "outputs": [],
   "source": [
    "criminalTimeAndDay4 = criminalTimeAndDay3.reset_index(drop=True)\n",
    "criminalPlace4 = criminalPlace3.reset_index(drop=True)\n",
    "criminalArea4 = criminalArea3.reset_index(drop=True)"
   ]
  },
  {
   "attachments": {},
   "cell_type": "markdown",
   "metadata": {},
   "source": [
    "##### csv파일로 저장하기"
   ]
  },
  {
   "cell_type": "code",
   "execution_count": 10,
   "metadata": {},
   "outputs": [],
   "source": [
    "criminalTimeAndDay4.to_csv('./data/criminalTimeAndDay.csv', index=False)\n",
    "criminalPlace4.to_csv('./data/criminalPlace.csv', index=False)\n",
    "criminalArea4.to_csv('./data/criminalArea.csv', index=False)"
   ]
  }
 ],
 "metadata": {
  "kernelspec": {
   "display_name": "Python 3",
   "language": "python",
   "name": "python3"
  },
  "language_info": {
   "codemirror_mode": {
    "name": "ipython",
    "version": 3
   },
   "file_extension": ".py",
   "mimetype": "text/x-python",
   "name": "python",
   "nbconvert_exporter": "python",
   "pygments_lexer": "ipython3",
   "version": "3.11.1"
  },
  "orig_nbformat": 4
 },
 "nbformat": 4,
 "nbformat_minor": 2
}
