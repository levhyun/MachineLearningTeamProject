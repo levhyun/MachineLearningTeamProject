{
 "cells": [
  {
   "cell_type": "code",
   "execution_count": 3,
   "metadata": {},
   "outputs": [
    {
     "data": {
      "text/html": [
       "<div>\n",
       "<style scoped>\n",
       "    .dataframe tbody tr th:only-of-type {\n",
       "        vertical-align: middle;\n",
       "    }\n",
       "\n",
       "    .dataframe tbody tr th {\n",
       "        vertical-align: top;\n",
       "    }\n",
       "\n",
       "    .dataframe thead th {\n",
       "        text-align: right;\n",
       "    }\n",
       "</style>\n",
       "<table border=\"1\" class=\"dataframe\">\n",
       "  <thead>\n",
       "    <tr style=\"text-align: right;\">\n",
       "      <th></th>\n",
       "      <th>범죄중분류</th>\n",
       "      <th>금요일</th>\n",
       "      <th>목요일</th>\n",
       "      <th>화요일</th>\n",
       "      <th>수요일</th>\n",
       "      <th>월요일</th>\n",
       "      <th>토요일</th>\n",
       "      <th>일요일</th>\n",
       "    </tr>\n",
       "  </thead>\n",
       "  <tbody>\n",
       "    <tr>\n",
       "      <th>0</th>\n",
       "      <td>교통범죄</td>\n",
       "      <td>58103</td>\n",
       "      <td>54846</td>\n",
       "      <td>53605</td>\n",
       "      <td>54509</td>\n",
       "      <td>51459</td>\n",
       "      <td>57134</td>\n",
       "      <td>47698</td>\n",
       "    </tr>\n",
       "    <tr>\n",
       "      <th>1</th>\n",
       "      <td>사기</td>\n",
       "      <td>52039</td>\n",
       "      <td>51654</td>\n",
       "      <td>51876</td>\n",
       "      <td>51225</td>\n",
       "      <td>52740</td>\n",
       "      <td>24124</td>\n",
       "      <td>20814</td>\n",
       "    </tr>\n",
       "    <tr>\n",
       "      <th>2</th>\n",
       "      <td>절도</td>\n",
       "      <td>28156</td>\n",
       "      <td>26098</td>\n",
       "      <td>25671</td>\n",
       "      <td>26061</td>\n",
       "      <td>26239</td>\n",
       "      <td>29266</td>\n",
       "      <td>25466</td>\n",
       "    </tr>\n",
       "    <tr>\n",
       "      <th>3</th>\n",
       "      <td>폭행</td>\n",
       "      <td>22045</td>\n",
       "      <td>21080</td>\n",
       "      <td>20766</td>\n",
       "      <td>20981</td>\n",
       "      <td>19966</td>\n",
       "      <td>26494</td>\n",
       "      <td>25865</td>\n",
       "    </tr>\n",
       "  </tbody>\n",
       "</table>\n",
       "</div>"
      ],
      "text/plain": [
       "  범죄중분류    금요일    목요일    화요일    수요일    월요일    토요일    일요일\n",
       "0  교통범죄  58103  54846  53605  54509  51459  57134  47698\n",
       "1    사기  52039  51654  51876  51225  52740  24124  20814\n",
       "2    절도  28156  26098  25671  26061  26239  29266  25466\n",
       "3    폭행  22045  21080  20766  20981  19966  26494  25865"
      ]
     },
     "execution_count": 3,
     "metadata": {},
     "output_type": "execute_result"
    }
   ],
   "source": [
    "import pandas as pd\n",
    "import matplotlib.pyplot as plt\n",
    "\n",
    "criminalDayTop10 = pd.read_csv('.\\data\\criminalDayTop10.csv')\n",
    "criminalDayTop10"
   ]
  },
  {
   "cell_type": "code",
   "execution_count": 9,
   "metadata": {},
   "outputs": [
    {
     "data": {
      "image/png": "[encoded data removed]",
      "text/plain": [
       "<Figure size 640x480 with 1 Axes>"
      ]
     },
     "metadata": {},
     "output_type": "display_data"
    }
   ],
   "source": [
    "# 한글 폰트 사용을 위해서 세팅\n",
    "from matplotlib import font_manager, rc\n",
    "font_path = \"C:/Windows/Fonts/HMFMPYUN.TTF\"\n",
    "font = font_manager.FontProperties(fname=font_path).get_name()\n",
    "rc('font', family=font)\n",
    "\n",
    "topics = list(criminalDayTop10.columns)[1:]\n",
    "\n",
    "traffic = sum(criminalDayTop10[criminalDayTop10['범죄중분류'] == '교통범죄'].values.tolist(), [])[1:]\n",
    "theft =  sum(criminalDayTop10[criminalDayTop10['범죄중분류'] == '사기'].values.tolist(), [])[1:]\n",
    "fraud = sum(criminalDayTop10[criminalDayTop10['범죄중분류'] == '절도'].values.tolist(), [])[1:]\n",
    "violence = sum(criminalDayTop10[criminalDayTop10['범죄중분류'] == '폭행'].values.tolist(), [])[1:]\n",
    "\n",
    "t = 4 # Number of dataset\n",
    "d = 7 # Number of sets of bars\n",
    "w = 0.8 # Width of each bar\n",
    "\n",
    "def create_x(t, w, n, d):\n",
    "    return [t*x + w*n for x in range(d)]\n",
    "\n",
    "traffic_x = create_x(t, w, 1, d)\n",
    "theft_x = create_x(t, w, 2, d)\n",
    "fraud_x = create_x(t, w, 3, d)\n",
    "violence_x = create_x(t, w, 4, d)\n",
    "\n",
    "ax = plt.subplot()\n",
    "ax.bar(traffic_x, traffic)\n",
    "ax.bar(theft_x, theft)\n",
    "ax.bar(fraud_x, fraud)\n",
    "ax.bar(violence_x, violence)\n",
    "\n",
    "middle_x = [(a+b+c+d)/4 for (a,b,c,d) in zip(traffic_x, theft_x, fraud_x, violence_x)]\n",
    "ax.set_xticks(middle_x)\n",
    "ax.set_xticklabels(topics)\n",
    "for tick in ax.get_xticklabels():\n",
    "    tick.set_rotation(45)\n",
    "\n",
    "plt.title('요일별 범죄')\n",
    "plt.xlabel('요일')\n",
    "plt.ylabel('범죄 건수')\n",
    "plt.legend(['교통범죄', '사기', '절도', '폭행'])\n",
    "plt.savefig('./graphImage/criminalDayTop10.png')\n",
    "plt.show()"
   ]
  }
 ],
 "metadata": {
  "kernelspec": {
   "display_name": "Python 3",
   "language": "python",
   "name": "python3"
  },
  "language_info": {
   "codemirror_mode": {
    "name": "ipython",
    "version": 3
   },
   "file_extension": ".py",
   "mimetype": "text/x-python",
   "name": "python",
   "nbconvert_exporter": "python",
   "pygments_lexer": "ipython3",
   "version": "3.11.1"
  },
  "orig_nbformat": 4
 },
 "nbformat": 4,
 "nbformat_minor": 2
}
