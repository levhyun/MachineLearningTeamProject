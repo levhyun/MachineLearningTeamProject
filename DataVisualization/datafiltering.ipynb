{
 "cells": [
  {
   "attachments": {},
   "cell_type": "markdown",
   "metadata": {},
   "source": [
    "### 데이터 필터링 및 최종 확인"
   ]
  },
  {
   "attachments": {},
   "cell_type": "markdown",
   "metadata": {},
   "source": [
    "##### 전처리 및 가공된 데이터들을 읽기"
   ]
  },
  {
   "cell_type": "code",
   "execution_count": 2,
   "metadata": {},
   "outputs": [],
   "source": [
    "import pandas as pd\n",
    "\n",
    "criminalArea = pd.read_csv('./organizedData/criminalArea.csv')\n",
    "criminalPlace = pd.read_csv('./organizedData/criminalPlace.csv')\n",
    "criminalTime = pd.read_csv('./organizedData/criminalTime.csv')\n",
    "criminalDay = pd.read_csv('./organizedData/criminalDay.csv')"
   ]
  },
  {
   "attachments": {},
   "cell_type": "markdown",
   "metadata": {},
   "source": [
    "##### 시각화를 위한 데이터 필터링하기 - criminalArea"
   ]
  },
  {
   "cell_type": "code",
   "execution_count": 3,
   "metadata": {},
   "outputs": [
    {
     "name": "stdout",
     "output_type": "stream",
     "text": [
      "데이터 크기 : (35, 87)\n",
      "데이터 칼럼 : ['범죄중분류', '서울', '부산', '대구', '인천', '광주', '대전', '경기 수원', '울산', '경남 창원', '경기 부천', '경기 안산', '경기 고양', '경기 성남', '충북 청주', '제주 제주', '충남 천안', '경기 용인', '경남 김해', '경기 평택', '전북 전주', '경기 시흥', '경북 구미', '경북 포항', '경기 안양', '경기 화성', '경기 남양주', '경기 의정부', '경기 파주', '강원 원주', '전남 목포', '전남 여수', '경남 거제', '전남 순천', '경남 진주', '강원 춘천', '경북 경주', '경기 광주', '전북 군산', '경기 광명', '경기 김포', '경남 양산', '전북 익산', '충남 아산', '충북 충주', '제주 서귀포', '경기 구리', '경북 경산', '강원 강릉', '경기 오산', '경기 군포', '경기 양주', '경기 포천', '경기 이천', '경기 안성', '경남 통영', '충남 당진', '경북 안동', '경기 하남', '전남 광양', '충남 서산', '경남 사천', '경북 김천', '충남 보령', '충북 제천', '경기 여주', '강원 속초', '충남 논산', '경기 의왕', '강원 동해', '세종', '전북 정읍', '경기 동두천', '경북 영주', '경북 영천', '경남 밀양', '충남 공주', '경북 상주', '전북 김제', '강원 삼척', '전북 남원', '경북 문경', '경기 과천', '강원 태백', '전남 나주', '충남 계룡', '경남 마산']\n",
      "범죄 종류 : ['교통범죄', '절도', '사기', '폭행', '특별경제범죄', '손괴', '횡령', '상해', '폭력행위등', '병역범죄', '성풍속범죄', '강제추행', '보건범죄', '문서인장', '협박', '도박범죄', '마약범죄', '강간', '배임', '공갈', '환경범죄', '통화', '방화', '강도', '노동범죄', '체포감금', '살인미수등', '선거범죄', '유사강간', '직무유기', '직권남용', '살인기수', '유가증권인지', '증수뢰', '안보범죄']\n"
     ]
    },
    {
     "data": {
      "text/html": [
       "<div>\n",
       "<style scoped>\n",
       "    .dataframe tbody tr th:only-of-type {\n",
       "        vertical-align: middle;\n",
       "    }\n",
       "\n",
       "    .dataframe tbody tr th {\n",
       "        vertical-align: top;\n",
       "    }\n",
       "\n",
       "    .dataframe thead th {\n",
       "        text-align: right;\n",
       "    }\n",
       "</style>\n",
       "<table border=\"1\" class=\"dataframe\">\n",
       "  <thead>\n",
       "    <tr style=\"text-align: right;\">\n",
       "      <th></th>\n",
       "      <th>범죄중분류</th>\n",
       "      <th>서울</th>\n",
       "      <th>부산</th>\n",
       "      <th>대구</th>\n",
       "      <th>인천</th>\n",
       "      <th>광주</th>\n",
       "      <th>대전</th>\n",
       "      <th>경기 수원</th>\n",
       "      <th>울산</th>\n",
       "      <th>경남 창원</th>\n",
       "      <th>경기 부천</th>\n",
       "    </tr>\n",
       "  </thead>\n",
       "  <tbody>\n",
       "    <tr>\n",
       "      <th>0</th>\n",
       "      <td>교통범죄</td>\n",
       "      <td>74958</td>\n",
       "      <td>35841</td>\n",
       "      <td>39725</td>\n",
       "      <td>31163</td>\n",
       "      <td>23412</td>\n",
       "      <td>13556</td>\n",
       "      <td>14715</td>\n",
       "      <td>16600</td>\n",
       "      <td>12650</td>\n",
       "      <td>10467</td>\n",
       "    </tr>\n",
       "    <tr>\n",
       "      <th>1</th>\n",
       "      <td>절도</td>\n",
       "      <td>55280</td>\n",
       "      <td>20136</td>\n",
       "      <td>12759</td>\n",
       "      <td>10679</td>\n",
       "      <td>8438</td>\n",
       "      <td>9495</td>\n",
       "      <td>6487</td>\n",
       "      <td>5449</td>\n",
       "      <td>5860</td>\n",
       "      <td>5048</td>\n",
       "    </tr>\n",
       "    <tr>\n",
       "      <th>2</th>\n",
       "      <td>사기</td>\n",
       "      <td>53879</td>\n",
       "      <td>20533</td>\n",
       "      <td>11507</td>\n",
       "      <td>13141</td>\n",
       "      <td>7669</td>\n",
       "      <td>7250</td>\n",
       "      <td>5749</td>\n",
       "      <td>5606</td>\n",
       "      <td>6170</td>\n",
       "      <td>5727</td>\n",
       "    </tr>\n",
       "    <tr>\n",
       "      <th>3</th>\n",
       "      <td>폭행</td>\n",
       "      <td>36904</td>\n",
       "      <td>8852</td>\n",
       "      <td>6607</td>\n",
       "      <td>9774</td>\n",
       "      <td>5386</td>\n",
       "      <td>4054</td>\n",
       "      <td>4123</td>\n",
       "      <td>4213</td>\n",
       "      <td>2650</td>\n",
       "      <td>3129</td>\n",
       "    </tr>\n",
       "  </tbody>\n",
       "</table>\n",
       "</div>"
      ],
      "text/plain": [
       "  범죄중분류     서울     부산     대구     인천     광주     대전  경기 수원     울산  경남 창원  경기 부천\n",
       "0  교통범죄  74958  35841  39725  31163  23412  13556  14715  16600  12650  10467\n",
       "1    절도  55280  20136  12759  10679   8438   9495   6487   5449   5860   5048\n",
       "2    사기  53879  20533  11507  13141   7669   7250   5749   5606   6170   5727\n",
       "3    폭행  36904   8852   6607   9774   5386   4054   4123   4213   2650   3129"
      ]
     },
     "execution_count": 3,
     "metadata": {},
     "output_type": "execute_result"
    }
   ],
   "source": [
    "print(f'데이터 크기 : {criminalArea.shape}')\n",
    "print(f'데이터 칼럼 : {list(criminalArea.columns)}')\n",
    "print('범죄 종류 :', list(criminalArea['범죄중분류']))\n",
    "criminalAreaTop10 = criminalArea.loc[:3, list(criminalArea.columns)[:10+1]]\n",
    "criminalAreaTop10"
   ]
  },
  {
   "attachments": {},
   "cell_type": "markdown",
   "metadata": {},
   "source": [
    "##### csv파일로 저장하기"
   ]
  },
  {
   "cell_type": "code",
   "execution_count": 4,
   "metadata": {},
   "outputs": [],
   "source": [
    "criminalAreaTop10.to_csv('./data/criminalAreaTop10.csv', index=False)"
   ]
  },
  {
   "attachments": {},
   "cell_type": "markdown",
   "metadata": {},
   "source": [
    "##### 시각화를 위한 데이터 필터링하기 - criminalPlace"
   ]
  },
  {
   "cell_type": "code",
   "execution_count": 5,
   "metadata": {},
   "outputs": [
    {
     "name": "stdout",
     "output_type": "stream",
     "text": [
      "데이터 크기 : (35, 33)\n",
      "데이터 칼럼 : ['범죄중분류', '노상', '아파트', '사무실', '단독주택', '유흥업소', '상점', '주차장', '숙박업소 및 목욕탕', '편의점', '슈퍼마켓', '시장_노점', '의료기관', '고속도로', '산야', '금융기관', '공장', '역_대합실', '유원지', '공사장_광산', '대형할인매장', '학교', '공중화장실', '지하철', '백화점', '피씨방', '창고', '종교기관', '흥행장', '해상', '부대', '공지', '구금장소']\n",
      "범죄 종류 : ['교통범죄', '절도', '사기', '폭행', '손괴', '횡령', '상해', '특별경제범죄', '협박', '보건범죄', '강제추행', '성풍속범죄', '마약범죄', '문서인장', '폭력행위등', '강간', '도박범죄', '환경범죄', '배임', '공갈', '방화', '체포감금', '병역범죄', '유사강간', '직무유기', '직권남용', '강도', '살인미수등', '통화', '노동범죄', '살인기수', '선거범죄', '증수뢰', '안보범죄', '유가증권인지']\n"
     ]
    },
    {
     "data": {
      "text/html": [
       "<div>\n",
       "<style scoped>\n",
       "    .dataframe tbody tr th:only-of-type {\n",
       "        vertical-align: middle;\n",
       "    }\n",
       "\n",
       "    .dataframe tbody tr th {\n",
       "        vertical-align: top;\n",
       "    }\n",
       "\n",
       "    .dataframe thead th {\n",
       "        text-align: right;\n",
       "    }\n",
       "</style>\n",
       "<table border=\"1\" class=\"dataframe\">\n",
       "  <thead>\n",
       "    <tr style=\"text-align: right;\">\n",
       "      <th></th>\n",
       "      <th>범죄중분류</th>\n",
       "      <th>노상</th>\n",
       "      <th>아파트</th>\n",
       "      <th>사무실</th>\n",
       "      <th>단독주택</th>\n",
       "      <th>유흥업소</th>\n",
       "      <th>상점</th>\n",
       "      <th>주차장</th>\n",
       "      <th>숙박업소 및 목욕탕</th>\n",
       "      <th>편의점</th>\n",
       "      <th>슈퍼마켓</th>\n",
       "    </tr>\n",
       "  </thead>\n",
       "  <tbody>\n",
       "    <tr>\n",
       "      <th>0</th>\n",
       "      <td>교통범죄</td>\n",
       "      <td>300530</td>\n",
       "      <td>105</td>\n",
       "      <td>74</td>\n",
       "      <td>38</td>\n",
       "      <td>14</td>\n",
       "      <td>36</td>\n",
       "      <td>769</td>\n",
       "      <td>7</td>\n",
       "      <td>4</td>\n",
       "      <td>1</td>\n",
       "    </tr>\n",
       "    <tr>\n",
       "      <th>1</th>\n",
       "      <td>절도</td>\n",
       "      <td>46374</td>\n",
       "      <td>16482</td>\n",
       "      <td>2282</td>\n",
       "      <td>8535</td>\n",
       "      <td>7116</td>\n",
       "      <td>15031</td>\n",
       "      <td>9891</td>\n",
       "      <td>2666</td>\n",
       "      <td>6143</td>\n",
       "      <td>9920</td>\n",
       "    </tr>\n",
       "    <tr>\n",
       "      <th>2</th>\n",
       "      <td>사기</td>\n",
       "      <td>44667</td>\n",
       "      <td>10071</td>\n",
       "      <td>28142</td>\n",
       "      <td>12618</td>\n",
       "      <td>11025</td>\n",
       "      <td>4370</td>\n",
       "      <td>1326</td>\n",
       "      <td>1153</td>\n",
       "      <td>2389</td>\n",
       "      <td>354</td>\n",
       "    </tr>\n",
       "    <tr>\n",
       "      <th>3</th>\n",
       "      <td>폭행</td>\n",
       "      <td>41284</td>\n",
       "      <td>23656</td>\n",
       "      <td>2946</td>\n",
       "      <td>12716</td>\n",
       "      <td>9270</td>\n",
       "      <td>1506</td>\n",
       "      <td>2850</td>\n",
       "      <td>1903</td>\n",
       "      <td>1365</td>\n",
       "      <td>526</td>\n",
       "    </tr>\n",
       "  </tbody>\n",
       "</table>\n",
       "</div>"
      ],
      "text/plain": [
       "  범죄중분류      노상    아파트    사무실   단독주택   유흥업소     상점   주차장  숙박업소 및 목욕탕   편의점  \\\n",
       "0  교통범죄  300530    105     74     38     14     36   769           7     4   \n",
       "1    절도   46374  16482   2282   8535   7116  15031  9891        2666  6143   \n",
       "2    사기   44667  10071  28142  12618  11025   4370  1326        1153  2389   \n",
       "3    폭행   41284  23656   2946  12716   9270   1506  2850        1903  1365   \n",
       "\n",
       "   슈퍼마켓  \n",
       "0     1  \n",
       "1  9920  \n",
       "2   354  \n",
       "3   526  "
      ]
     },
     "execution_count": 5,
     "metadata": {},
     "output_type": "execute_result"
    }
   ],
   "source": [
    "print(f'데이터 크기 : {criminalPlace.shape}')\n",
    "print(f'데이터 칼럼 : {list(criminalPlace.columns)}')\n",
    "print('범죄 종류 :', list(criminalPlace['범죄중분류']))\n",
    "criminalPlaceTop10 = criminalPlace.loc[:3, list(criminalPlace.columns)[:10+1]]\n",
    "criminalPlaceTop10"
   ]
  },
  {
   "attachments": {},
   "cell_type": "markdown",
   "metadata": {},
   "source": [
    "##### csv파일로 저장하기"
   ]
  },
  {
   "cell_type": "code",
   "execution_count": 6,
   "metadata": {},
   "outputs": [],
   "source": [
    "criminalPlaceTop10.to_csv('./data/criminalPlaceTop10.csv', index=False)"
   ]
  },
  {
   "attachments": {},
   "cell_type": "markdown",
   "metadata": {},
   "source": [
    "##### 시각화를 위한 데이터 필터링하기 - criminalTime"
   ]
  },
  {
   "cell_type": "code",
   "execution_count": 12,
   "metadata": {},
   "outputs": [
    {
     "name": "stdout",
     "output_type": "stream",
     "text": [
      "데이터 크기 : (35, 9)\n",
      "데이터 칼럼 : ['범죄중분류', '21:00 ~ 23:59', '18:00 ~ 20:59', '15:00 ~ 17:59', '09:00 ~ 11:59', '12:00 ~ 14:59', '0:00 ~ 02:59', '06:00 ~ 08:59', '03:00 ~ 05:59']\n",
      "범죄 종류 : ['교통범죄', '절도', '폭행', '사기', '손괴', '횡령', '상해', '특별경제범죄', '협박', '강제추행', '성풍속범죄', '폭력행위등', '보건범죄', '마약범죄', '강간', '도박범죄', '문서인장', '공갈', '병역범죄', '배임', '환경범죄', '방화', '체포감금', '강도', '노동범죄', '유사강간', '통화', '살인미수등', '직권남용', '선거범죄', '살인기수', '직무유기', '유가증권인지', '증수뢰', '안보범죄']\n"
     ]
    },
    {
     "data": {
      "text/html": [
       "<div>\n",
       "<style scoped>\n",
       "    .dataframe tbody tr th:only-of-type {\n",
       "        vertical-align: middle;\n",
       "    }\n",
       "\n",
       "    .dataframe tbody tr th {\n",
       "        vertical-align: top;\n",
       "    }\n",
       "\n",
       "    .dataframe thead th {\n",
       "        text-align: right;\n",
       "    }\n",
       "</style>\n",
       "<table border=\"1\" class=\"dataframe\">\n",
       "  <thead>\n",
       "    <tr style=\"text-align: right;\">\n",
       "      <th></th>\n",
       "      <th>범죄중분류</th>\n",
       "      <th>21:00 ~ 23:59</th>\n",
       "      <th>18:00 ~ 20:59</th>\n",
       "      <th>15:00 ~ 17:59</th>\n",
       "      <th>09:00 ~ 11:59</th>\n",
       "      <th>12:00 ~ 14:59</th>\n",
       "      <th>0:00 ~ 02:59</th>\n",
       "      <th>06:00 ~ 08:59</th>\n",
       "      <th>03:00 ~ 05:59</th>\n",
       "    </tr>\n",
       "  </thead>\n",
       "  <tbody>\n",
       "    <tr>\n",
       "      <th>0</th>\n",
       "      <td>교통범죄</td>\n",
       "      <td>70537</td>\n",
       "      <td>58164</td>\n",
       "      <td>53506</td>\n",
       "      <td>44265</td>\n",
       "      <td>45675</td>\n",
       "      <td>24513</td>\n",
       "      <td>37189</td>\n",
       "      <td>23438</td>\n",
       "    </tr>\n",
       "    <tr>\n",
       "      <th>1</th>\n",
       "      <td>절도</td>\n",
       "      <td>20568</td>\n",
       "      <td>27229</td>\n",
       "      <td>28553</td>\n",
       "      <td>21501</td>\n",
       "      <td>27167</td>\n",
       "      <td>13088</td>\n",
       "      <td>13094</td>\n",
       "      <td>14167</td>\n",
       "    </tr>\n",
       "    <tr>\n",
       "      <th>2</th>\n",
       "      <td>폭행</td>\n",
       "      <td>34120</td>\n",
       "      <td>20704</td>\n",
       "      <td>14791</td>\n",
       "      <td>11591</td>\n",
       "      <td>12509</td>\n",
       "      <td>19226</td>\n",
       "      <td>9345</td>\n",
       "      <td>16377</td>\n",
       "    </tr>\n",
       "    <tr>\n",
       "      <th>3</th>\n",
       "      <td>사기</td>\n",
       "      <td>12387</td>\n",
       "      <td>13930</td>\n",
       "      <td>21648</td>\n",
       "      <td>39184</td>\n",
       "      <td>30405</td>\n",
       "      <td>5443</td>\n",
       "      <td>3056</td>\n",
       "      <td>3949</td>\n",
       "    </tr>\n",
       "  </tbody>\n",
       "</table>\n",
       "</div>"
      ],
      "text/plain": [
       "  범죄중분류  21:00 ~ 23:59  18:00 ~ 20:59  15:00 ~ 17:59  09:00 ~ 11:59  \\\n",
       "0  교통범죄          70537          58164          53506          44265   \n",
       "1    절도          20568          27229          28553          21501   \n",
       "2    폭행          34120          20704          14791          11591   \n",
       "3    사기          12387          13930          21648          39184   \n",
       "\n",
       "   12:00 ~ 14:59  0:00 ~ 02:59  06:00 ~ 08:59  03:00 ~ 05:59  \n",
       "0          45675         24513          37189          23438  \n",
       "1          27167         13088          13094          14167  \n",
       "2          12509         19226           9345          16377  \n",
       "3          30405          5443           3056           3949  "
      ]
     },
     "execution_count": 12,
     "metadata": {},
     "output_type": "execute_result"
    }
   ],
   "source": [
    "print(f'데이터 크기 : {criminalTime.shape}')\n",
    "print(f'데이터 칼럼 : {list(criminalTime.columns)}')\n",
    "print('범죄 종류 :', list(criminalTime['범죄중분류']))\n",
    "criminalTimeTop10 = criminalTime.loc[:3, list(criminalTime.columns)]\n",
    "criminalTimeTop10"
   ]
  },
  {
   "attachments": {},
   "cell_type": "markdown",
   "metadata": {},
   "source": [
    "##### 시각화를 위한 데이터 필터링하기 - criminalDay"
   ]
  },
  {
   "cell_type": "code",
   "execution_count": 13,
   "metadata": {},
   "outputs": [
    {
     "name": "stdout",
     "output_type": "stream",
     "text": [
      "데이터 크기 : (35, 8)\n",
      "데이터 칼럼 : ['범죄중분류', '금요일', '목요일', '화요일', '수요일', '월요일', '토요일', '일요일']\n",
      "범죄 종류 : ['교통범죄', '사기', '절도', '폭행', '횡령', '손괴', '특별경제범죄', '상해', '협박', '강제추행', '성풍속범죄', '병역범죄', '보건범죄', '문서인장', '폭력행위등', '마약범죄', '도박범죄', '강간', '공갈', '배임', '환경범죄', '방화', '체포감금', '통화', '노동범죄', '강도', '유사강간', '직권남용', '선거범죄', '직무유기', '살인미수등', '살인기수', '증수뢰', '안보범죄', '유가증권인지']\n"
     ]
    },
    {
     "data": {
      "text/html": [
       "<div>\n",
       "<style scoped>\n",
       "    .dataframe tbody tr th:only-of-type {\n",
       "        vertical-align: middle;\n",
       "    }\n",
       "\n",
       "    .dataframe tbody tr th {\n",
       "        vertical-align: top;\n",
       "    }\n",
       "\n",
       "    .dataframe thead th {\n",
       "        text-align: right;\n",
       "    }\n",
       "</style>\n",
       "<table border=\"1\" class=\"dataframe\">\n",
       "  <thead>\n",
       "    <tr style=\"text-align: right;\">\n",
       "      <th></th>\n",
       "      <th>범죄중분류</th>\n",
       "      <th>금요일</th>\n",
       "      <th>목요일</th>\n",
       "      <th>화요일</th>\n",
       "      <th>수요일</th>\n",
       "      <th>월요일</th>\n",
       "      <th>토요일</th>\n",
       "      <th>일요일</th>\n",
       "    </tr>\n",
       "  </thead>\n",
       "  <tbody>\n",
       "    <tr>\n",
       "      <th>0</th>\n",
       "      <td>교통범죄</td>\n",
       "      <td>58103</td>\n",
       "      <td>54846</td>\n",
       "      <td>53605</td>\n",
       "      <td>54509</td>\n",
       "      <td>51459</td>\n",
       "      <td>57134</td>\n",
       "      <td>47698</td>\n",
       "    </tr>\n",
       "    <tr>\n",
       "      <th>1</th>\n",
       "      <td>사기</td>\n",
       "      <td>52039</td>\n",
       "      <td>51654</td>\n",
       "      <td>51876</td>\n",
       "      <td>51225</td>\n",
       "      <td>52740</td>\n",
       "      <td>24124</td>\n",
       "      <td>20814</td>\n",
       "    </tr>\n",
       "    <tr>\n",
       "      <th>2</th>\n",
       "      <td>절도</td>\n",
       "      <td>28156</td>\n",
       "      <td>26098</td>\n",
       "      <td>25671</td>\n",
       "      <td>26061</td>\n",
       "      <td>26239</td>\n",
       "      <td>29266</td>\n",
       "      <td>25466</td>\n",
       "    </tr>\n",
       "    <tr>\n",
       "      <th>3</th>\n",
       "      <td>폭행</td>\n",
       "      <td>22045</td>\n",
       "      <td>21080</td>\n",
       "      <td>20766</td>\n",
       "      <td>20981</td>\n",
       "      <td>19966</td>\n",
       "      <td>26494</td>\n",
       "      <td>25865</td>\n",
       "    </tr>\n",
       "  </tbody>\n",
       "</table>\n",
       "</div>"
      ],
      "text/plain": [
       "  범죄중분류    금요일    목요일    화요일    수요일    월요일    토요일    일요일\n",
       "0  교통범죄  58103  54846  53605  54509  51459  57134  47698\n",
       "1    사기  52039  51654  51876  51225  52740  24124  20814\n",
       "2    절도  28156  26098  25671  26061  26239  29266  25466\n",
       "3    폭행  22045  21080  20766  20981  19966  26494  25865"
      ]
     },
     "execution_count": 13,
     "metadata": {},
     "output_type": "execute_result"
    }
   ],
   "source": [
    "print(f'데이터 크기 : {criminalDay.shape}')\n",
    "print(f'데이터 칼럼 : {list(criminalDay.columns)}')\n",
    "print('범죄 종류 :', list(criminalDay['범죄중분류']))\n",
    "criminalDayTop10 = criminalDay.loc[:3, list(criminalDay.columns)]\n",
    "criminalDayTop10"
   ]
  }
 ],
 "metadata": {
  "kernelspec": {
   "display_name": "Python 3",
   "language": "python",
   "name": "python3"
  },
  "language_info": {
   "codemirror_mode": {
    "name": "ipython",
    "version": 3
   },
   "file_extension": ".py",
   "mimetype": "text/x-python",
   "name": "python",
   "nbconvert_exporter": "python",
   "pygments_lexer": "ipython3",
   "version": "3.11.1"
  },
  "orig_nbformat": 4
 },
 "nbformat": 4,
 "nbformat_minor": 2
}
