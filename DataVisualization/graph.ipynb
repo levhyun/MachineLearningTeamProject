{
 "cells": [
  {
   "attachments": {},
   "cell_type": "markdown",
   "metadata": {},
   "source": [
    "### 데이터 시각화"
   ]
  },
  {
   "attachments": {},
   "cell_type": "markdown",
   "metadata": {},
   "source": [
    "##### 전처리 및 가공된 데이터들을 읽기"
   ]
  },
  {
   "cell_type": "code",
   "execution_count": 1,
   "metadata": {},
   "outputs": [],
   "source": [
    "import pandas as pd\n",
    "\n",
    "criminalArea = pd.read_csv('./data/criminalArea.csv')\n",
    "criminalPlace = pd.read_csv('./data/criminalPlace.csv')\n",
    "criminalTime = pd.read_csv('./data/criminalTime.csv')\n",
    "criminalDay = pd.read_csv('./data/criminalDay.csv')"
   ]
  },
  {
   "attachments": {},
   "cell_type": "markdown",
   "metadata": {},
   "source": [
    "##### 시각화를 위한 데이터 정리 - criminalArea"
   ]
  },
  {
   "cell_type": "code",
   "execution_count": 2,
   "metadata": {},
   "outputs": [
    {
     "name": "stdout",
     "output_type": "stream",
     "text": [
      "데이터 크기 : (35, 87)\n",
      "데이터 칼럼 : ['범죄중분류', '서울', '부산', '대구', '인천', '광주', '대전', '경기 수원', '울산', '경남 창원', '경기 부천', '경기 안산', '경기 고양', '경기 성남', '충북 청주', '제주 제주', '충남 천안', '경기 용인', '경남 김해', '경기 평택', '전북 전주', '경기 시흥', '경북 구미', '경북 포항', '경기 안양', '경기 화성', '경기 남양주', '경기 의정부', '경기 파주', '강원 원주', '전남 목포', '전남 여수', '경남 거제', '전남 순천', '경남 진주', '강원 춘천', '경북 경주', '경기 광주', '전북 군산', '경기 광명', '경기 김포', '경남 양산', '전북 익산', '충남 아산', '충북 충주', '제주 서귀포', '경기 구리', '경북 경산', '강원 강릉', '경기 오산', '경기 군포', '경기 양주', '경기 포천', '경기 이천', '경기 안성', '경남 통영', '충남 당진', '경북 안동', '경기 하남', '전남 광양', '충남 서산', '경남 사천', '경북 김천', '충남 보령', '충북 제천', '경기 여주', '강원 속초', '충남 논산', '경기 의왕', '강원 동해', '세종', '전북 정읍', '경기 동두천', '경북 영주', '경북 영천', '경남 밀양', '충남 공주', '경북 상주', '전북 김제', '강원 삼척', '전북 남원', '경북 문경', '경기 과천', '강원 태백', '전남 나주', '충남 계룡', '경남 마산']\n",
      "범죄 종류 : ['교통범죄', '절도', '사기', '폭행', '특별경제범죄', '손괴', '횡령', '상해', '폭력행위등', '병역범죄', '성풍속범죄', '강제추행', '보건범죄', '문서인장', '협박', '도박범죄', '마약범죄', '강간', '배임', '공갈', '환경범죄', '통화', '방화', '강도', '노동범죄', '체포감금', '살인미수등', '선거범죄', '유사강간', '직무유기', '직권남용', '살인기수', '유가증권인지', '증수뢰', '안보범죄']\n"
     ]
    }
   ],
   "source": [
    "print(f'데이터 크기 : {criminalArea.shape}')\n",
    "print(f'데이터 칼럼 : {list(criminalArea.columns)}')\n",
    "print('범죄 종류 :', list(criminalArea['범죄중분류']))"
   ]
  },
  {
   "attachments": {},
   "cell_type": "markdown",
   "metadata": {},
   "source": [
    "##### 시각화를 위한 데이터 정리 - criminalPlace"
   ]
  },
  {
   "cell_type": "code",
   "execution_count": 3,
   "metadata": {},
   "outputs": [
    {
     "name": "stdout",
     "output_type": "stream",
     "text": [
      "데이터 크기 : (35, 33)\n",
      "데이터 칼럼 : ['범죄중분류', '노상', '아파트', '사무실', '단독주택', '유흥업소', '상점', '주차장', '숙박업소 및 목욕탕', '편의점', '슈퍼마켓', '시장_노점', '의료기관', '고속도로', '산야', '금융기관', '공장', '역_대합실', '유원지', '공사장_광산', '대형할인매장', '학교', '공중화장실', '지하철', '백화점', '피씨방', '창고', '종교기관', '흥행장', '해상', '부대', '공지', '구금장소']\n",
      "범죄 종류 : ['교통범죄', '절도', '사기', '폭행', '손괴', '횡령', '상해', '특별경제범죄', '협박', '보건범죄', '강제추행', '성풍속범죄', '마약범죄', '문서인장', '폭력행위등', '강간', '도박범죄', '환경범죄', '배임', '공갈', '방화', '체포감금', '병역범죄', '유사강간', '직무유기', '직권남용', '강도', '살인미수등', '통화', '노동범죄', '살인기수', '선거범죄', '증수뢰', '안보범죄', '유가증권인지']\n"
     ]
    }
   ],
   "source": [
    "print(f'데이터 크기 : {criminalPlace.shape}')\n",
    "print(f'데이터 칼럼 : {list(criminalPlace.columns)}')\n",
    "print('범죄 종류 :', list(criminalPlace['범죄중분류']))"
   ]
  },
  {
   "attachments": {},
   "cell_type": "markdown",
   "metadata": {},
   "source": [
    "##### 시각화를 위한 데이터 정리 - criminalTime"
   ]
  },
  {
   "cell_type": "code",
   "execution_count": 4,
   "metadata": {},
   "outputs": [
    {
     "name": "stdout",
     "output_type": "stream",
     "text": [
      "데이터 크기 : (35, 9)\n",
      "데이터 칼럼 : ['범죄중분류', '21:00 ~ 23:59', '18:00 ~ 20:59', '15:00 ~ 17:59', '09:00 ~ 11:59', '12:00 ~ 14:59', '0:00 ~ 02:59', '06:00 ~ 08:59', '03:00 ~ 05:59']\n",
      "범죄 종류 : ['교통범죄', '절도', '폭행', '사기', '손괴', '횡령', '상해', '특별경제범죄', '협박', '강제추행', '성풍속범죄', '폭력행위등', '보건범죄', '마약범죄', '강간', '도박범죄', '문서인장', '공갈', '병역범죄', '배임', '환경범죄', '방화', '체포감금', '강도', '노동범죄', '유사강간', '통화', '살인미수등', '직권남용', '선거범죄', '살인기수', '직무유기', '유가증권인지', '증수뢰', '안보범죄']\n"
     ]
    }
   ],
   "source": [
    "print(f'데이터 크기 : {criminalTime.shape}')\n",
    "print(f'데이터 칼럼 : {list(criminalTime.columns)}')\n",
    "print('범죄 종류 :', list(criminalTime['범죄중분류']))"
   ]
  },
  {
   "attachments": {},
   "cell_type": "markdown",
   "metadata": {},
   "source": [
    "##### 시각화를 위한 데이터 정리 - criminalDay"
   ]
  },
  {
   "cell_type": "code",
   "execution_count": 5,
   "metadata": {},
   "outputs": [
    {
     "name": "stdout",
     "output_type": "stream",
     "text": [
      "데이터 크기 : (35, 8)\n",
      "데이터 칼럼 : ['범죄중분류', '금요일', '목요일', '화요일', '수요일', '월요일', '토요일', '일요일']\n",
      "범죄 종류 : ['교통범죄', '사기', '절도', '폭행', '횡령', '손괴', '특별경제범죄', '상해', '협박', '강제추행', '성풍속범죄', '병역범죄', '보건범죄', '문서인장', '폭력행위등', '마약범죄', '도박범죄', '강간', '공갈', '배임', '환경범죄', '방화', '체포감금', '통화', '노동범죄', '강도', '유사강간', '직권남용', '선거범죄', '직무유기', '살인미수등', '살인기수', '증수뢰', '안보범죄', '유가증권인지']\n"
     ]
    }
   ],
   "source": [
    "print(f'데이터 크기 : {criminalDay.shape}')\n",
    "print(f'데이터 칼럼 : {list(criminalDay.columns)}')\n",
    "print('범죄 종류 :', list(criminalDay['범죄중분류']))"
   ]
  }
 ],
 "metadata": {
  "kernelspec": {
   "display_name": "Python 3",
   "language": "python",
   "name": "python3"
  },
  "language_info": {
   "codemirror_mode": {
    "name": "ipython",
    "version": 3
   },
   "file_extension": ".py",
   "mimetype": "text/x-python",
   "name": "python",
   "nbconvert_exporter": "python",
   "pygments_lexer": "ipython3",
   "version": "3.11.1"
  },
  "orig_nbformat": 4
 },
 "nbformat": 4,
 "nbformat_minor": 2
}
